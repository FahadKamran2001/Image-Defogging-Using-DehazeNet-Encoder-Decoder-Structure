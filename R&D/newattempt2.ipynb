{
 "cells": [
  {
   "cell_type": "code",
   "execution_count": 1,
   "metadata": {},
   "outputs": [
    {
     "name": "stdout",
     "output_type": "stream",
     "text": [
      "Epoch 1/10\n"
     ]
    }
   ],
   "source": [
    "import os\n",
    "import cv2\n",
    "import numpy as np\n",
    "from keras.models import Sequential\n",
    "from keras.layers import Conv2D, UpSampling2D\n",
    "\n",
    "# Define the paths to the clear and foggy image folders\n",
    "clear_folder = \"C:/Users/HP/Pictures/clearFoggy/Clear/\"\n",
    "foggy_folder = \"C:/Users/HP/Pictures/clearFoggy/Foggy/\"\n",
    "\n",
    "# Set the desired image size\n",
    "image_height = 256\n",
    "image_width = 256\n",
    "num_channels = 3\n",
    "\n",
    "# Load the clear and foggy images\n",
    "clear_images = []\n",
    "foggy_images = []\n",
    "\n",
    "for filename in os.listdir(foggy_folder):\n",
    "    if filename.endswith(\".jpg\") or filename.endswith(\".png\"):\n",
    "        foggy_img = cv2.imread(os.path.join(foggy_folder, filename))\n",
    "        clear_filename = os.path.splitext(filename)[0] + \".jpg\"  # Assuming clear images have .jpg extension\n",
    "        clear_img = cv2.imread(os.path.join(clear_folder, clear_filename))\n",
    "        foggy_img = cv2.resize(foggy_img, (image_width, image_height))\n",
    "        clear_img = cv2.resize(clear_img, (image_width, image_height))\n",
    "        foggy_images.append(foggy_img)\n",
    "        clear_images.append(clear_img)\n",
    "\n",
    "# Convert the lists of images to numpy arrays\n",
    "clear_images = np.array(clear_images)\n",
    "foggy_images = np.array(foggy_images)\n",
    "\n",
    "# Normalize pixel values to range between 0 and 1\n",
    "clear_images = clear_images.astype('float32') / 255.0\n",
    "foggy_images = foggy_images.astype('float32') / 255.0\n",
    "\n",
    "# Define the CNN model architecture\n",
    "model = Sequential()\n",
    "model.add(Conv2D(1024, (3, 3), activation='relu', padding='same', input_shape=(image_height, image_width, num_channels)))\n",
    "model.add(Conv2D(1024, (3, 3), activation='relu', padding='same'))\n",
    "model.add(Conv2D(num_channels, (3, 3), activation='relu', padding='same'))\n",
    "\n",
    "# Compile the model\n",
    "model.compile(optimizer='adam', loss='mean_squared_error')\n",
    "\n",
    "# Train the model\n",
    "model.fit(foggy_images, clear_images, epochs=10, batch_size=5)\n",
    "\n",
    "# Save the trained model\n",
    "model.save(\"foggy_to_clear_model_high_filter.h5\")\n"
   ]
  },
  {
   "cell_type": "code",
   "execution_count": null,
   "metadata": {},
   "outputs": [],
   "source": [
    "import cv2\n",
    "import numpy as np\n",
    "from keras.models import load_model\n",
    "\n",
    "# Set the desired image size\n",
    "image_height = 256\n",
    "image_width = 256\n",
    "num_channels = 3\n",
    "\n",
    "# Load the trained model\n",
    "model = load_model(\"foggy_to_clear_model.h5\")\n",
    "\n",
    "# Load a foggy image for testing\n",
    "foggy_image_path = \"C:/Users/HP/Documents/Semester (summer)/Aim Lab Internship/Fog/foggy-001.jpg\"\n",
    "foggy_image = cv2.imread(foggy_image_path)\n",
    "\n",
    "# Resize the foggy image to the desired size\n",
    "foggy_image = cv2.resize(foggy_image, (image_width, image_height))\n",
    "\n",
    "# Preprocess the foggy image\n",
    "foggy_image = foggy_image.astype('float32') / 255.0\n",
    "foggy_image = np.expand_dims(foggy_image, axis=0)\n",
    "\n",
    "# Use the model to predict the clear image\n",
    "clear_image = model.predict(foggy_image)\n",
    "\n",
    "# Rescale the pixel values to the original range\n",
    "clear_image = clear_image * 255.0\n",
    "clear_image = clear_image.astype('uint8')\n",
    "\n",
    "# Reshape the clear image\n",
    "clear_image = np.squeeze(clear_image, axis=0)\n",
    "\n",
    "# Display the clear image\n",
    "cv2.imshow(\"Clear Image\", clear_image)\n",
    "cv2.waitKey(0)\n",
    "cv2.destroyAllWindows()\n",
    "\n"
   ]
  },
  {
   "cell_type": "code",
   "execution_count": null,
   "metadata": {},
   "outputs": [],
   "source": []
  }
 ],
 "metadata": {
  "kernelspec": {
   "display_name": "base",
   "language": "python",
   "name": "python3"
  },
  "language_info": {
   "codemirror_mode": {
    "name": "ipython",
    "version": 3
   },
   "file_extension": ".py",
   "mimetype": "text/x-python",
   "name": "python",
   "nbconvert_exporter": "python",
   "pygments_lexer": "ipython3",
   "version": "3.9.16"
  },
  "orig_nbformat": 4
 },
 "nbformat": 4,
 "nbformat_minor": 2
}
